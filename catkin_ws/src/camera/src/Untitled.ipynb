{
 "cells": [
  {
   "cell_type": "code",
   "execution_count": 2,
   "metadata": {},
   "outputs": [],
   "source": [
    "#from boundingbox_suppression import *\n",
    "import numpy as np\n",
    "import cv2"
   ]
  },
  {
   "cell_type": "code",
   "execution_count": 1,
   "metadata": {},
   "outputs": [
    {
     "ename": "NameError",
     "evalue": "name 'cv2' is not defined",
     "output_type": "error",
     "traceback": [
      "\u001b[0;31m---------------------------------------------------------------------------\u001b[0m",
      "\u001b[0;31mNameError\u001b[0m                                 Traceback (most recent call last)",
      "\u001b[0;32m<ipython-input-1-fc952b7df231>\u001b[0m in \u001b[0;36m<module>\u001b[0;34m()\u001b[0m\n\u001b[1;32m      1\u001b[0m \u001b[0mpath\u001b[0m \u001b[0;34m=\u001b[0m \u001b[0;34m'/home/dick/ros_test/catkin_ws/src/camera/data/realsense/for_test/points/'\u001b[0m\u001b[0;34m\u001b[0m\u001b[0m\n\u001b[1;32m      2\u001b[0m \u001b[0mfile_name\u001b[0m \u001b[0;34m=\u001b[0m \u001b[0;34m'31_rgb.png'\u001b[0m\u001b[0;34m\u001b[0m\u001b[0m\n\u001b[0;32m----> 3\u001b[0;31m \u001b[0mimg\u001b[0m \u001b[0;34m=\u001b[0m \u001b[0mcv2\u001b[0m\u001b[0;34m.\u001b[0m\u001b[0mimread\u001b[0m\u001b[0;34m(\u001b[0m\u001b[0mpath\u001b[0m \u001b[0;34m+\u001b[0m \u001b[0mfile_name\u001b[0m\u001b[0;34m)\u001b[0m\u001b[0;34m\u001b[0m\u001b[0m\n\u001b[0m\u001b[1;32m      4\u001b[0m \u001b[0mori\u001b[0m \u001b[0;34m=\u001b[0m \u001b[0mimg\u001b[0m\u001b[0;34m.\u001b[0m\u001b[0mcopy\u001b[0m\u001b[0;34m(\u001b[0m\u001b[0;34m)\u001b[0m\u001b[0;34m\u001b[0m\u001b[0m\n\u001b[1;32m      5\u001b[0m \u001b[0;31m#detected_img, roi_list = detect_color(ori)\u001b[0m\u001b[0;34m\u001b[0m\u001b[0;34m\u001b[0m\u001b[0m\n",
      "\u001b[0;31mNameError\u001b[0m: name 'cv2' is not defined"
     ]
    }
   ],
   "source": [
    "path = '/home/dick/ros_test/catkin_ws/src/camera/data/realsense/for_test/points/'\n",
    "file_name = '31_rgb.png'\n",
    "img = cv2.imread(path + file_name)\n",
    "ori = img.copy()\n",
    "#detected_img, roi_list = detect_color(ori)\n",
    "cv2.imshow('hi', ori)\n",
    "cv2.waitKey(1)"
   ]
  },
  {
   "cell_type": "code",
   "execution_count": 11,
   "metadata": {},
   "outputs": [
    {
     "data": {
      "text/plain": [
       "-1"
      ]
     },
     "execution_count": 11,
     "metadata": {},
     "output_type": "execute_result"
    }
   ],
   "source": [
    "cv2.imshow(\"Original\", img)\n",
    "# cv2.imshow(\"After NMS\", out)\n",
    "cv2.waitKey(0) "
   ]
  },
  {
   "cell_type": "code",
   "execution_count": 3,
   "metadata": {},
   "outputs": [],
   "source": [
    "def getRed(img):\n",
    "\tlower_bound_0 = np.array([0, 100, 230]) \n",
    "\tupper_bound_0 = np.array([10, 255, 255])\n",
    "\tlower_bound_1 = np.array([170, 100, 50]) \n",
    "\tupper_bound_1 = np.array([180, 255, 255])\n",
    "\thsv_img   = cv2.cvtColor(img, cv2.COLOR_BGR2HSV)\n",
    "\tmask_0 = cv2.inRange(hsv_img, lower_bound_0, upper_bound_0)\n",
    "\tmask_1 = cv2.inRange(hsv_img, lower_bound_1, upper_bound_1)\n",
    "\tmask  = cv2.bitwise_or(mask_0, mask_1)\n",
    "\treturn mask\n",
    "\n",
    "def getGreen(img):\n",
    "\tlower_bound_0 = np.array([65,60,60]) \n",
    "\tupper_bound_0 = np.array([85,255,255])\n",
    "\thsv_img   = cv2.cvtColor(img, cv2.COLOR_BGR2HSV)\n",
    "\tmask = cv2.inRange(hsv_img, lower_bound_0, upper_bound_0)\n",
    "\treturn mask\n",
    "\n",
    "def getBlue(img):\n",
    "\tlower_bound_0 = np.array([70,60,20]) \n",
    "\tupper_bound_0 = np.array([140,255,255])\n",
    "\thsv_img   = cv2.cvtColor(img, cv2.COLOR_BGR2HSV)\n",
    "\tmask = cv2.inRange(hsv_img, lower_bound_0, upper_bound_0)\n",
    "\treturn mask\n",
    "\n",
    "\n",
    "def detect_color(img):\n",
    "\tcanvas = img.copy()\n",
    "\t#print(canvas.shape)\n",
    "\tdim = canvas.shape\n",
    "\n",
    "\tred_mask   = getRed(canvas)\n",
    "\tcontours_red, hierarchy = cv2.findContours(red_mask, cv2.RETR_EXTERNAL, cv2.CHAIN_APPROX_NONE)\n",
    "\tgreen_mask = getGreen(canvas)\n",
    "\tcontours_green, hierarchy = cv2.findContours(green_mask, cv2.RETR_EXTERNAL, cv2.CHAIN_APPROX_NONE)\n",
    "        blue_mask = getBlue(canvas)\n",
    "\tcontours_blue, hierarchy = cv2.findContours(blue_mask, cv2.RETR_EXTERNAL, cv2.CHAIN_APPROX_NONE)\n",
    "\n",
    "\troi_list = []\n",
    "\tfor cnt in contours_red:\n",
    "\t\tx, y, w, h = cv2.boundingRect(cnt)\n",
    "                #if((w * h) > 500*4):\n",
    "\t\tif(((w * h) > 500*4) & ((w * h) < 57600)):\n",
    "\t\t\tcv2.rectangle(canvas, (x - 10, y - 10), (x + w + 10, y + h + 10), (0, 255, 0), 2)\n",
    "\t\t\tx1 = x - 10 if (x - 10) > 0 else 0\n",
    "\t\t\ty1 = y - 10 if (y - 10) > 0 else 0\n",
    "\t\t\tx2 = x+w+10 if (x+w+10) < dim[1] else dim[1]-1\n",
    "\t\t\ty2 = y+h+10 if (y+h+10) < dim[0] else dim[0]-1\n",
    "\n",
    "\t\t\troi_list.append((x1, y1, x2, y2))\n",
    "\t\t\tcv2.putText(canvas, 'Red', (x - 10, y - 14), cv2.FONT_HERSHEY_DUPLEX, 0.5, (0, 255, 0), 1, cv2.LINE_AA)\n",
    "\n",
    "\tfor cnt in contours_green:\n",
    "\t\tx, y, w, h = cv2.boundingRect(cnt)\n",
    "\t\t#if((w * h) > 500*4):\n",
    "                if(((w * h) > 500*4) & ((w * h) < 57600)):\n",
    "\t\t\tcv2.rectangle(canvas, (x - 10, y - 10), (x + w + 10, y + h + 10), (255, 0, 0), 2)\n",
    "\t\t\tx1 = x - 10 if (x - 10) > 0 else 0\n",
    "\t\t\ty1 = y - 10 if (y - 10) > 0 else 0\n",
    "\t\t\tx2 = x+w+10 if (x+w+10) < dim[1] else dim[1]-1\n",
    "\t\t\ty2 = y+h+10 if (y+h+10) < dim[0] else dim[0]-1\n",
    "\n",
    "\t\t\troi_list.append((x1, y1, x2, y2))\n",
    "\t\t\tcv2.putText(canvas, 'Green', (x - 10, y - 14), cv2.FONT_HERSHEY_DUPLEX, 0.5, (255, 0, 0), 1, cv2.LINE_AA)\n",
    "\n",
    "        for cnt in contours_blue:\n",
    "\t\tx, y, w, h = cv2.boundingRect(cnt)\n",
    "\t\t#if((w * h) > 500*4):\n",
    "                if(((w * h) > 500*4) & ((w * h) < 57600)):\n",
    "\t\t\tcv2.rectangle(canvas, (x - 10, y - 10), (x + w + 10, y + h + 10), (255, 0, 0), 2)\n",
    "\t\t\tx1 = x - 10 if (x - 10) > 0 else 0\n",
    "\t\t\ty1 = y - 10 if (y - 10) > 0 else 0\n",
    "\t\t\tx2 = x+w+10 if (x+w+10) < dim[1] else dim[1]-1\n",
    "\t\t\ty2 = y+h+10 if (y+h+10) < dim[0] else dim[0]-1\n",
    "\n",
    "\t\t\troi_list.append((x1, y1, x2, y2))\n",
    "\t\t\tcv2.putText(canvas, 'Blue', (x - 10, y - 14), cv2.FONT_HERSHEY_DUPLEX, 0.5, (255, 0, 0), 1, cv2.LINE_AA)\n",
    "\n",
    "\treturn canvas, np.array(roi_list)"
   ]
  },
  {
   "cell_type": "code",
   "execution_count": 4,
   "metadata": {},
   "outputs": [],
   "source": [
    "def non_max_suppression_slow(boxes, overlapThresh):\n",
    "    # if there are no boxes, return an empty list\n",
    "    if len(boxes) == 0:\n",
    "        return []\n",
    "    # initialize the list of picked indexes\n",
    "    pick = []\n",
    "    # grab the coordinates of the bounding boxes\n",
    "    x1 = boxes[:,0]\n",
    "    y1 = boxes[:,1]\n",
    "    x2 = boxes[:,2]\n",
    "    y2 = boxes[:,3]\n",
    "    # compute the area of the bounding boxes and sort the bounding\n",
    "    # boxes by the bottom-right y-coordinate of the bounding box\n",
    "    area = (x2 - x1 + 1) * (y2 - y1 + 1)\n",
    "    idxs = np.argsort(y2)\n",
    "\n",
    "        # keep looping while some indexes still remain in the indexes list\n",
    "    print('in func')\n",
    "    while len(idxs) > 0:\n",
    "        # grab the last index in the indexes list, add the index\n",
    "        # value to the list of picked indexes, then initialize\n",
    "        # the suppression list (i.e. indexes that will be deleted)\n",
    "        # using the last index\n",
    "        last = len(idxs) - 1\n",
    "        i = idxs[last]\n",
    "        pick.append(i)\n",
    "        suppress = [last]\n",
    "        \n",
    "        # loop over all indexes in the indexes list\n",
    "        for pos in range(0, last):\n",
    "            # grab the current index\n",
    "            j = idxs[pos]\n",
    "            # find the largest (x, y) coordinates for the start of\n",
    "            # the bounding box and the smallest (x, y) coordinates\n",
    "            # for the end of the bounding box\n",
    "            xx1 = max(x1[i], x1[j])\n",
    "            yy1 = max(y1[i], y1[j])\n",
    "            xx2 = min(x2[i], x2[j])\n",
    "            yy2 = min(y2[i], y2[j])\n",
    "            # compute the width and height of the bounding box\n",
    "            w = max(0, xx2 - xx1 + 1)\n",
    "            h = max(0, yy2 - yy1 + 1)\n",
    "            # compute the ratio of overlap between the computed\n",
    "            # bounding box and the bounding box in the area list\n",
    "            overlap = float(w * h) / area[j]\n",
    "            # if there is sufficient overlap, suppress the\n",
    "            # current bounding box\n",
    "            if overlap > overlapThresh:\n",
    "                suppress.append(pos)\n",
    "        # delete all indexes from the index list that are in the\n",
    "        # suppression list\n",
    "        idxs = np.delete(idxs, suppress)\n",
    "# return only the bounding boxes that were picked\n",
    "    return boxes[pick]"
   ]
  },
  {
   "cell_type": "code",
   "execution_count": null,
   "metadata": {},
   "outputs": [],
   "source": []
  }
 ],
 "metadata": {
  "kernelspec": {
   "display_name": "Python 2",
   "language": "python",
   "name": "python2"
  },
  "language_info": {
   "codemirror_mode": {
    "name": "ipython",
    "version": 2
   },
   "file_extension": ".py",
   "mimetype": "text/x-python",
   "name": "python",
   "nbconvert_exporter": "python",
   "pygments_lexer": "ipython2",
   "version": "2.7.17"
  }
 },
 "nbformat": 4,
 "nbformat_minor": 2
}
